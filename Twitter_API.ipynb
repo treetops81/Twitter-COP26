{
  "cells": [
    {
      "cell_type": "markdown",
      "metadata": {
        "id": "view-in-github",
        "colab_type": "text"
      },
      "source": [
        "<a href=\"https://colab.research.google.com/github/treetops81/Twitter-COP26/blob/main/Twitter_API.ipynb\" target=\"_parent\"><img src=\"https://colab.research.google.com/assets/colab-badge.svg\" alt=\"Open In Colab\"/></a>"
      ]
    },
    {
      "cell_type": "code",
      "execution_count": null,
      "metadata": {
        "id": "HJPZTo204Y_z"
      },
      "outputs": [],
      "source": [
        "# Download required packages that are not available already on google colab.\n",
        "!pip install demoji\n",
        "!pip install spacytextblob\n",
        "!python -m spacy download en_core_web_sm \n",
        "!pip install git+https://github.com/rwalk/gsdmm.git"
      ]
    },
    {
      "cell_type": "markdown",
      "metadata": {
        "id": "yL9HoHD7w8hR"
      },
      "source": [
        "## Import required libraries\n",
        "If required, run the above code upon opening so that google colab has the required libraries "
      ]
    },
    {
      "cell_type": "code",
      "execution_count": 59,
      "metadata": {
        "id": "yJFJ0cgQzJjx"
      },
      "outputs": [],
      "source": [
        "# Import required libraries\n",
        "\n",
        "# Twitter specific\n",
        "import tweepy\n",
        "\n",
        "# General analysis packages\n",
        "import pandas as pd\n",
        "import numpy as np\n",
        "import json\n",
        "import os\n",
        "import re\n",
        "import matplotlib.pyplot as plt\n",
        "import seaborn as sns\n",
        "from collections import Counter\n",
        "import pickle\n",
        "\n",
        "# Language Packages\n",
        "import demoji  \n",
        "from string import punctuation\n",
        "import spacy\n",
        "from spacytextblob.spacytextblob import SpacyTextBlob\n",
        "from textblob import TextBlob\n",
        "from gsdmm import MovieGroupProcess\n",
        "\n",
        "# Preload the spacy model\n",
        "nlp = spacy.load(\"en_core_web_sm\")\n",
        "nlp.add_pipe('spacytextblob') # Allows us to use the textblob sentiment analysis tools with spacy\n",
        "# Add any other required stop words\n",
        "nlp.Defaults.stop_words.add(\"cop26\")\n",
        "\n",
        "# Redirect the current python folder to where the Twitter files are located\n",
        "os.chdir(r'/content/drive/MyDrive/Colab Notebooks/Twitter/') # If you map this to where this notebook is saved then gsdmm shoud install in the same location"
      ]
    },
    {
      "cell_type": "markdown",
      "metadata": {
        "id": "6z2tl_kUxHKp"
      },
      "source": [
        "## Load and clean data"
      ]
    },
    {
      "cell_type": "code",
      "execution_count": 60,
      "metadata": {
        "id": "ww77vGbJp5U5"
      },
      "outputs": [],
      "source": [
        "# Make sure that Google Drive is mounted before trying to call the below\n",
        "# Loads my private twitter keys\n",
        "%run \"Twitter Info.ipynb\""
      ]
    },
    {
      "cell_type": "code",
      "execution_count": 61,
      "metadata": {
        "id": "YY0HTZCfp5Cp"
      },
      "outputs": [],
      "source": [
        "# Set up twitter API authentication \n",
        "auth = tweepy.OAuthHandler(consumer_key, consumer_secret)\n",
        "auth.set_access_token(access_token, access_secret)\n",
        "api = tweepy.API(auth)"
      ]
    },
    {
      "cell_type": "code",
      "execution_count": 62,
      "metadata": {
        "id": "uVAxG84j6K2p"
      },
      "outputs": [],
      "source": [
        "# # *** Here for completeness, the cleaned table has been saved to save time ***\n",
        "# # Merge all the individual data pulls drom twitter into a single table\n",
        "\n",
        "# full_df = pd.concat([pd.read_csv('df_12_11_21.csv', encoding = 'utf-8'),\n",
        "#                      pd.read_csv('df_12_11_21_2.csv', encoding = 'utf-8'),\n",
        "#                      pd.read_csv('df_13_11_21_1.csv', encoding = 'utf-8'),\n",
        "#                      pd.read_csv('df_14_11_21_1.csv', encoding = 'utf-8'),\n",
        "#                      pd.read_csv('df_14_11_21_2.csv', encoding = 'utf-8'),\n",
        "#                      pd.read_csv('df_14_11_21_3.csv', encoding = 'utf-8'),\n",
        "#                      pd.read_csv('df_18_11_21_1.csv', encoding = 'utf-8'),\n",
        "#                     pd.read_csv('df_18_11_21_3.csv', encoding = 'utf-8'),\n",
        "#                      pd.read_csv('df_20_11_21_1.csv', encoding = 'utf-8'),\n",
        "#                      pd.read_csv('df_20_11_21_2.csv', encoding = 'utf-8'),\n",
        "#                      pd.read_csv('df_21_11_21_1.csv', encoding = 'utf-8'),\n",
        "#                      pd.read_csv('df_21_11_21_2.csv', encoding = 'utf-8'),\n",
        "#                      pd.read_csv('df_22_11_21_1.csv', encoding = 'utf-8'),\n",
        "#                      pd.read_csv('df_22_11_21_2.csv', encoding = 'utf-8'),\n",
        "#                      pd.read_csv('df_23_11_21_1.csv', encoding = 'utf-8'),\n",
        "#                      pd.read_csv('df_23_11_21_2.csv', encoding = 'utf-8')\n",
        "# ])\n",
        "\n",
        "# full_df.drop(columns=('Unnamed: 0'), inplace = True)"
      ]
    },
    {
      "cell_type": "code",
      "execution_count": 63,
      "metadata": {
        "id": "O0Wq6sOu0ejm"
      },
      "outputs": [],
      "source": [
        "# # *** Here for completeness, the cleaned table has been saved to save time ***\n",
        "# # Remove retweets, remove certain automatic accounts and drop duplicate. Reset index.\n",
        "\n",
        "# tweet_df = full_df\n",
        "# # Filter out retweets\n",
        "# tweet_df['temp'] = full_df.tweets.str[0:2]\n",
        "# tweet_df = full_df[full_df['temp'] != 'RT']\n",
        "# # Filter out useless user info\n",
        "# tweet_df = tweet_df[tweet_df.user != '🌍🅲🅾🅿26 AVIATION MONITOR']\n",
        "# tweet_df = tweet_df[tweet_df.user != 'CentralSpotter🏴󠁧󠁢󠁳󠁣󠁴󠁿']\n",
        "# # Drop copied / botted tweets\n",
        "# tweet_df = tweet_df.drop_duplicates(subset = ['tweets'])\n",
        "# tweet_df.reset_index(drop = True, inplace = True)\n",
        "# tweet_df.drop(columns = ('temp'), inplace = True)\n",
        "\n",
        "# # Save the combined data to save further time\n",
        "# tweet_df.to_csv('tweet_df_initial_clean.csv', encoding = 'utf-8')"
      ]
    },
    {
      "cell_type": "code",
      "execution_count": 64,
      "metadata": {
        "id": "C-0gNGPUeJoD"
      },
      "outputs": [],
      "source": [
        "# Load the combined and partially cleaned dataset\n",
        "tweet_df = pd.read_csv('tweet_df_initial_clean.csv', encoding = 'utf-8', index_col = 0)\n",
        "\n",
        "# My pull out emojis from the tweet data (descriptions)\n",
        "tweet_df['emojis'] = tweet_df['tweets'].apply(lambda x: list(demoji.findall(x).values()))\n",
        "\n",
        "# Flag tweets containing links - these usually refer to another tweet or picture that doesn't provide us any information.\n",
        "def find_link(text):\n",
        "    if 'https' in text:\n",
        "        return True\n",
        "    else: \n",
        "        return False\n",
        "\n",
        "tweet_df['link_check'] = tweet_df['tweets'].apply(lambda x: find_link(x))"
      ]
    },
    {
      "cell_type": "code",
      "execution_count": 65,
      "metadata": {
        "id": "i2CJhd7kXkDP"
      },
      "outputs": [],
      "source": [
        "# Pull mentions out of tweets and creates a new column. \n",
        "# Regex expression checks that no @ or letters (or numbers) proceed an @ symbol and then capture to 25 a-Z 0-9 characters afterwards.\n",
        "tweet_df['mentions'] = tweet_df.tweets.str.findall(r'(?<![@\\w])@(\\w{1,25})')"
      ]
    },
    {
      "cell_type": "code",
      "execution_count": 66,
      "metadata": {
        "id": "zH0UTjrn3prd"
      },
      "outputs": [],
      "source": [
        "# Replace emojis with their description in words in a string\n",
        "def replace_emoji(text):\n",
        "    text = replace_with_desc(text, \"\")\n",
        "    return text"
      ]
    },
    {
      "cell_type": "code",
      "execution_count": 67,
      "metadata": {
        "id": "8gBDlL9uPKI4"
      },
      "outputs": [],
      "source": [
        "# Remove Emojis from text strings - Useful website for finding unicodes of emojis not currently included: https://unicode.org/emoji/charts/full-emoji-list.html#231b\n",
        "def remove_emoji(text):\n",
        "    emoji_pattern = re.compile(\"[\"\n",
        "                               u\"\\U0001F600-\\U0001F64F\"  # emoticons\n",
        "                               u\"\\U0001F300-\\U0001F5FF\"  # symbols & pictographs\n",
        "                               u\"\\U0001F680-\\U0001F6FF\"  # transport & map symbols\n",
        "                               u\"\\U0001F1E0-\\U0001F1FF\"  # flags (iOS)\n",
        "                               u\"\\U00002318-\\U0001F566\"  # clocks\n",
        "                               u\"\\U00002500-\\U00002BEF\"  # chinese char\n",
        "                               u\"\\U00002702-\\U000027B0\"\n",
        "                               u\"\\U00002702-\\U000027B0\"\n",
        "                               u\"\\U000024C2-\\U0001F251\"\n",
        "                               u\"\\U0001f926-\\U0001f937\"\n",
        "                               u\"\\U00010000-\\U0010ffff\"\n",
        "                               u\"\\u2640-\\u2642\"\n",
        "                               u\"\\u2600-\\u2B55\"\n",
        "                               u\"\\u200d\"\n",
        "                               u\"\\u23cf\"\n",
        "                               u\"\\u23e9\"\n",
        "                               u\"\\u231a\"\n",
        "                               u\"\\ufe0f\"  # dingbats\n",
        "                               u\"\\u3030\"\n",
        "                               \"]+\", flags=re.UNICODE)\n",
        "    return emoji_pattern.sub(r'', text)"
      ]
    },
    {
      "cell_type": "code",
      "execution_count": 68,
      "metadata": {
        "id": "SDxuY1I-V4nN"
      },
      "outputs": [],
      "source": [
        "# Remove links from text\n",
        "def remove_links(text):\n",
        "    url_pattern = re.compile(r\"http\\S+\")\n",
        "    return re.sub(url_pattern, '', text)"
      ]
    },
    {
      "cell_type": "code",
      "execution_count": 69,
      "metadata": {
        "id": "sSeIIo-qkzRP"
      },
      "outputs": [],
      "source": [
        "# Remove dates (run before remove punctuation) - Very Basic Version\n",
        "def remove_dates(text):\n",
        "    text = re.sub('\\d+(\\/\\d+)+', '', text) # Removes digits seperated by forward slashes \n",
        "    return text"
      ]
    },
    {
      "cell_type": "code",
      "execution_count": 70,
      "metadata": {
        "colab": {
          "base_uri": "https://localhost:8080/",
          "height": 36
        },
        "id": "4LOr8ckRRVSu",
        "outputId": "cb3cb033-68d0-4ae0-bad8-3aec47045b81"
      },
      "outputs": [
        {
          "output_type": "execute_result",
          "data": {
            "application/vnd.google.colaboratory.intrinsic+json": {
              "type": "string"
            },
            "text/plain": [
              "'!\"#$%&\\'()*+,-/:;<=>?[\\\\]^_`{|}~'"
            ]
          },
          "metadata": {},
          "execution_count": 70
        }
      ],
      "source": [
        "# Omit full stops and @ symbols from the punctuation variable (may be useful for other types of analysis)\n",
        "punctuation_edit = punctuation[:13] + punctuation[14:21] + punctuation[22:]\n",
        "punctuation_edit"
      ]
    },
    {
      "cell_type": "code",
      "execution_count": 71,
      "metadata": {
        "id": "iWtK_eV8O7LO"
      },
      "outputs": [],
      "source": [
        "# Remove all punctuation except for omissions in punctution_edit / punctutation\n",
        "def remove_punc(text):\n",
        "    text = ' '.join(text.split())\n",
        "    text = re.sub('/', ' ', text)\n",
        "    text = (text.encode('ascii', 'ignore')).decode()\n",
        "    text = re.sub(' +', ' ', text)\n",
        "    text = re.sub(r' +\\. +', '. ', text)\n",
        "    text = text.strip()\n",
        "    text = ''.join([char for char in text if char not in punctuation])\n",
        "    #text = ''.join([char for char in text if char not in punctuation_edit]) # Omits '.' & '@'\n",
        "    return text"
      ]
    },
    {
      "cell_type": "code",
      "execution_count": 72,
      "metadata": {
        "id": "up8dEi5i0HIq"
      },
      "outputs": [],
      "source": [
        "# Remove mentions from text\n",
        "def remove_mention(text):\n",
        "    return re.sub('@\\w+', '', text)"
      ]
    },
    {
      "cell_type": "code",
      "execution_count": 73,
      "metadata": {
        "id": "5wRjYlnzZOV6"
      },
      "outputs": [],
      "source": [
        "# Clean text, calling all the sub-cleaning functions\n",
        "def clean_text(text):\n",
        "    #text = text.lower()\n",
        "    #text = replace_emoji(text)\n",
        "    text = re.sub('&amp;', 'and', text) # Replace &amp: with '&' - slight encoding error\n",
        "    text = remove_emoji(text)\n",
        "    text = remove_links(text)\n",
        "    text = remove_dates(text)\n",
        "    text = remove_mention(text)\n",
        "    text = remove_punc(text) \n",
        "    return text"
      ]
    },
    {
      "cell_type": "code",
      "execution_count": 74,
      "metadata": {
        "colab": {
          "base_uri": "https://localhost:8080/",
          "height": 239
        },
        "id": "1EPYCSfNXYdf",
        "outputId": "6e635d11-a8d9-4ef4-9844-d55a66dbe4a6"
      },
      "outputs": [
        {
          "output_type": "execute_result",
          "data": {
            "text/html": [
              "\n",
              "  <div id=\"df-a1ddc368-0667-46c9-a45a-5f648e012aa1\">\n",
              "    <div class=\"colab-df-container\">\n",
              "      <div>\n",
              "<style scoped>\n",
              "    .dataframe tbody tr th:only-of-type {\n",
              "        vertical-align: middle;\n",
              "    }\n",
              "\n",
              "    .dataframe tbody tr th {\n",
              "        vertical-align: top;\n",
              "    }\n",
              "\n",
              "    .dataframe thead th {\n",
              "        text-align: right;\n",
              "    }\n",
              "</style>\n",
              "<table border=\"1\" class=\"dataframe\">\n",
              "  <thead>\n",
              "    <tr style=\"text-align: right;\">\n",
              "      <th></th>\n",
              "      <th>tweets</th>\n",
              "      <th>likes</th>\n",
              "      <th>time</th>\n",
              "      <th>verified</th>\n",
              "      <th>user</th>\n",
              "      <th>hashtags</th>\n",
              "      <th>emojis</th>\n",
              "      <th>link_check</th>\n",
              "      <th>mentions</th>\n",
              "      <th>clean_tweet</th>\n",
              "    </tr>\n",
              "  </thead>\n",
              "  <tbody>\n",
              "    <tr>\n",
              "      <th>0</th>\n",
              "      <td>#COP26 has been named the must excluding COP e...</td>\n",
              "      <td>53660</td>\n",
              "      <td>2021-11-04 16:20:40</td>\n",
              "      <td>True</td>\n",
              "      <td>Greta Thunberg</td>\n",
              "      <td>[{'text': 'COP26', 'indices': [0, 6]}]</td>\n",
              "      <td>[]</td>\n",
              "      <td>False</td>\n",
              "      <td>[]</td>\n",
              "      <td>COP26 has been named the must excluding COP ev...</td>\n",
              "    </tr>\n",
              "    <tr>\n",
              "      <th>1</th>\n",
              "      <td>Indonesia reversed a #COP26 pledge to end defo...</td>\n",
              "      <td>5618</td>\n",
              "      <td>2021-11-04 14:31:00</td>\n",
              "      <td>True</td>\n",
              "      <td>AJ+</td>\n",
              "      <td>[{'text': 'COP26', 'indices': [21, 27]}]</td>\n",
              "      <td>[]</td>\n",
              "      <td>True</td>\n",
              "      <td>[]</td>\n",
              "      <td>Indonesia reversed a COP26 pledge to end defor...</td>\n",
              "    </tr>\n",
              "    <tr>\n",
              "      <th>2</th>\n",
              "      <td>Sir David Attenborough full speech to World Le...</td>\n",
              "      <td>5227</td>\n",
              "      <td>2021-11-04 10:10:55</td>\n",
              "      <td>True</td>\n",
              "      <td>Chris Packham</td>\n",
              "      <td>[{'text': 'COP26', 'indices': [69, 75]}, {'tex...</td>\n",
              "      <td>[]</td>\n",
              "      <td>True</td>\n",
              "      <td>[]</td>\n",
              "      <td>Sir David Attenborough full speech to World Le...</td>\n",
              "    </tr>\n",
              "  </tbody>\n",
              "</table>\n",
              "</div>\n",
              "      <button class=\"colab-df-convert\" onclick=\"convertToInteractive('df-a1ddc368-0667-46c9-a45a-5f648e012aa1')\"\n",
              "              title=\"Convert this dataframe to an interactive table.\"\n",
              "              style=\"display:none;\">\n",
              "        \n",
              "  <svg xmlns=\"http://www.w3.org/2000/svg\" height=\"24px\"viewBox=\"0 0 24 24\"\n",
              "       width=\"24px\">\n",
              "    <path d=\"M0 0h24v24H0V0z\" fill=\"none\"/>\n",
              "    <path d=\"M18.56 5.44l.94 2.06.94-2.06 2.06-.94-2.06-.94-.94-2.06-.94 2.06-2.06.94zm-11 1L8.5 8.5l.94-2.06 2.06-.94-2.06-.94L8.5 2.5l-.94 2.06-2.06.94zm10 10l.94 2.06.94-2.06 2.06-.94-2.06-.94-.94-2.06-.94 2.06-2.06.94z\"/><path d=\"M17.41 7.96l-1.37-1.37c-.4-.4-.92-.59-1.43-.59-.52 0-1.04.2-1.43.59L10.3 9.45l-7.72 7.72c-.78.78-.78 2.05 0 2.83L4 21.41c.39.39.9.59 1.41.59.51 0 1.02-.2 1.41-.59l7.78-7.78 2.81-2.81c.8-.78.8-2.07 0-2.86zM5.41 20L4 18.59l7.72-7.72 1.47 1.35L5.41 20z\"/>\n",
              "  </svg>\n",
              "      </button>\n",
              "      \n",
              "  <style>\n",
              "    .colab-df-container {\n",
              "      display:flex;\n",
              "      flex-wrap:wrap;\n",
              "      gap: 12px;\n",
              "    }\n",
              "\n",
              "    .colab-df-convert {\n",
              "      background-color: #E8F0FE;\n",
              "      border: none;\n",
              "      border-radius: 50%;\n",
              "      cursor: pointer;\n",
              "      display: none;\n",
              "      fill: #1967D2;\n",
              "      height: 32px;\n",
              "      padding: 0 0 0 0;\n",
              "      width: 32px;\n",
              "    }\n",
              "\n",
              "    .colab-df-convert:hover {\n",
              "      background-color: #E2EBFA;\n",
              "      box-shadow: 0px 1px 2px rgba(60, 64, 67, 0.3), 0px 1px 3px 1px rgba(60, 64, 67, 0.15);\n",
              "      fill: #174EA6;\n",
              "    }\n",
              "\n",
              "    [theme=dark] .colab-df-convert {\n",
              "      background-color: #3B4455;\n",
              "      fill: #D2E3FC;\n",
              "    }\n",
              "\n",
              "    [theme=dark] .colab-df-convert:hover {\n",
              "      background-color: #434B5C;\n",
              "      box-shadow: 0px 1px 3px 1px rgba(0, 0, 0, 0.15);\n",
              "      filter: drop-shadow(0px 1px 2px rgba(0, 0, 0, 0.3));\n",
              "      fill: #FFFFFF;\n",
              "    }\n",
              "  </style>\n",
              "\n",
              "      <script>\n",
              "        const buttonEl =\n",
              "          document.querySelector('#df-a1ddc368-0667-46c9-a45a-5f648e012aa1 button.colab-df-convert');\n",
              "        buttonEl.style.display =\n",
              "          google.colab.kernel.accessAllowed ? 'block' : 'none';\n",
              "\n",
              "        async function convertToInteractive(key) {\n",
              "          const element = document.querySelector('#df-a1ddc368-0667-46c9-a45a-5f648e012aa1');\n",
              "          const dataTable =\n",
              "            await google.colab.kernel.invokeFunction('convertToInteractive',\n",
              "                                                     [key], {});\n",
              "          if (!dataTable) return;\n",
              "\n",
              "          const docLinkHtml = 'Like what you see? Visit the ' +\n",
              "            '<a target=\"_blank\" href=https://colab.research.google.com/notebooks/data_table.ipynb>data table notebook</a>'\n",
              "            + ' to learn more about interactive tables.';\n",
              "          element.innerHTML = '';\n",
              "          dataTable['output_type'] = 'display_data';\n",
              "          await google.colab.output.renderOutput(dataTable, element);\n",
              "          const docLink = document.createElement('div');\n",
              "          docLink.innerHTML = docLinkHtml;\n",
              "          element.appendChild(docLink);\n",
              "        }\n",
              "      </script>\n",
              "    </div>\n",
              "  </div>\n",
              "  "
            ],
            "text/plain": [
              "                                              tweets  ...                                        clean_tweet\n",
              "0  #COP26 has been named the must excluding COP e...  ...  COP26 has been named the must excluding COP ev...\n",
              "1  Indonesia reversed a #COP26 pledge to end defo...  ...  Indonesia reversed a COP26 pledge to end defor...\n",
              "2  Sir David Attenborough full speech to World Le...  ...  Sir David Attenborough full speech to World Le...\n",
              "\n",
              "[3 rows x 10 columns]"
            ]
          },
          "metadata": {},
          "execution_count": 74
        }
      ],
      "source": [
        "# Create a new column based of the cleaning function\n",
        "tweet_df['clean_tweet'] = tweet_df['tweets'].apply(lambda x: clean_text(x))\n",
        "tweet_df.head(3)"
      ]
    },
    {
      "cell_type": "code",
      "execution_count": 75,
      "metadata": {
        "id": "_lkEjONkYgF0"
      },
      "outputs": [],
      "source": [
        "# Remove to_remove items from a target list\n",
        "# Input: list (target) & str/list containing items to remove, Output: list (target minus the defined items)\n",
        "def remove_all(target_list, to_remove):\n",
        "    if isinstance(to_remove, str): # Remove from a string\n",
        "        for item in target_list:\n",
        "            if item == to_remove:\n",
        "                target_list.remove(to_remove) \n",
        "    \n",
        "    elif isinstance(to_remove, list): # Remove from a list\n",
        "        for rem_item in to_remove:\n",
        "            for item in target_list:\n",
        "                if item == rem_item:\n",
        "                    target_list.remove(rem_item) \n",
        "\n",
        "    return target_list"
      ]
    },
    {
      "cell_type": "code",
      "execution_count": 76,
      "metadata": {
        "id": "TYhVNN6kZF2O"
      },
      "outputs": [],
      "source": [
        "# Take in the hashtags format from twitter, extract the hashtags by finding the text within the entry and remove the words 'text' and 'indices'\n",
        "def fix_hashtags(hashtag_list):\n",
        "    hashtag_string = re.findall(r\"'(.*?)'\", hashtag_list)\n",
        "    hashtag_list_out = remove_all(hashtag_string, ['text', 'indices'])\n",
        "    return hashtag_list_out"
      ]
    },
    {
      "cell_type": "code",
      "execution_count": 77,
      "metadata": {
        "id": "7RQkRQPYYg36"
      },
      "outputs": [],
      "source": [
        "# Apply fix_hashtags\n",
        "tweet_df['hashtags_clean'] = tweet_df['hashtags'].apply(lambda x: fix_hashtags(x))\n",
        "\n",
        "# Drop old hashtag column and reorder columns\n",
        "tweet_df.drop(columns = ['hashtags'])\n",
        "tweet_df = tweet_df.reindex(columns = ['clean_tweet', 'emojis', 'hashtags_clean', 'mentions', 'likes', 'link_check', 'time', 'verified', 'user', 'tweets'])\n",
        "tweet_df.to_csv('tweet_df.csv', encoding = 'utf-8')"
      ]
    },
    {
      "cell_type": "markdown",
      "metadata": {
        "id": "S25ScNQ1xMWP"
      },
      "source": [
        "## Quick analysis of hashtags, emojis and mentions within our dataset"
      ]
    },
    {
      "cell_type": "code",
      "execution_count": 78,
      "metadata": {
        "colab": {
          "base_uri": "https://localhost:8080/"
        },
        "id": "B7ISKq0SZBfE",
        "outputId": "57cdd71d-ec92-4a88-959c-524d79a46d17"
      },
      "outputs": [
        {
          "output_type": "stream",
          "name": "stdout",
          "text": [
            "4031\n"
          ]
        }
      ],
      "source": [
        "# Look at the number of duplicate tweets\n",
        "print(tweet_df.clean_tweet.value_counts()[tweet_df.clean_tweet.value_counts() > 1].sum())"
      ]
    },
    {
      "cell_type": "code",
      "execution_count": 79,
      "metadata": {
        "id": "IZG0ndrbZBZ3"
      },
      "outputs": [],
      "source": [
        "# Drop duplicates, sorting by tweet and then likes\n",
        "def drop_dupes(df):\n",
        "    sorted_df = df.sort_values(by=['clean_tweet', 'likes'])\n",
        "    df_trimmed = df.drop_duplicates(subset=['clean_tweet'])\n",
        "    df_trimmed = df_trimmed.sort_index()\n",
        "    return df_trimmed.reset_index(drop=True)"
      ]
    },
    {
      "cell_type": "code",
      "execution_count": 80,
      "metadata": {
        "colab": {
          "base_uri": "https://localhost:8080/"
        },
        "id": "1BpgFsd6l35W",
        "outputId": "1a04bcc6-bf97-4588-d1ff-10375ce530f7"
      },
      "outputs": [
        {
          "output_type": "stream",
          "name": "stdout",
          "text": [
            "(40708, 10)\n",
            "(37822, 10)\n"
          ]
        }
      ],
      "source": [
        "# Print df shape\n",
        "print(tweet_df.shape)\n",
        "\n",
        "# Drop duplicates and reprint shape\n",
        "tweet_df = drop_dupes(tweet_df)\n",
        "print(tweet_df.shape)"
      ]
    },
    {
      "cell_type": "code",
      "execution_count": 81,
      "metadata": {
        "colab": {
          "base_uri": "https://localhost:8080/"
        },
        "id": "nNTW1VwegEh0",
        "outputId": "3272f6e1-83c0-477a-b744-88de3584f118"
      },
      "outputs": [
        {
          "output_type": "stream",
          "name": "stdout",
          "text": [
            "Total number of users in dataset: 27616\n"
          ]
        },
        {
          "output_type": "execute_result",
          "data": {
            "text/plain": [
              "RSMacKinnon (he/him)                54\n",
              "UNFCCC                              50\n",
              "Top Banana Antiques                 47\n",
              "Greta Thunberg News                 34\n",
              "Sky News                            29\n",
              "                                    ..\n",
              "PakTech                              1\n",
              "leanne hub                           1\n",
              "Dr Andy Broadhurst                   1\n",
              "Harriet Scandol 🌱                    1\n",
              "BillabongHighInternationalSchool     1\n",
              "Name: user, Length: 27616, dtype: int64"
            ]
          },
          "metadata": {},
          "execution_count": 81
        }
      ],
      "source": [
        "# Look at user counts and tweets per user to check that no one user is a major component of our dataset\n",
        "print('Total number of users in dataset:', len(tweet_df.user.unique()))\n",
        "tweet_df.user.value_counts()"
      ]
    },
    {
      "cell_type": "code",
      "execution_count": 82,
      "metadata": {
        "colab": {
          "base_uri": "https://localhost:8080/"
        },
        "id": "y5YPc7m3hnLt",
        "outputId": "4ab41e0a-9ce9-4775-9f82-3344e2852db6"
      },
      "outputs": [
        {
          "output_type": "stream",
          "name": "stdout",
          "text": [
            "cop26 : 17983\n",
            "climatechange : 1749\n",
            "climateaction : 1221\n",
            "climatecrisis : 900\n",
            "climate : 872\n",
            "cop26glasgow : 758\n",
            "climateemergency : 647\n",
            "togetherforourplanet : 636\n",
            "netzero : 463\n",
            "climatejustice : 392\n",
            "glasgow : 370\n",
            "sustainability : 320\n",
            "climateactionnow : 288\n",
            "environment : 240\n",
            "uprootthesystem : 236\n",
            "auspol : 220\n",
            "globalwarming : 215\n",
            "klimalaya : 202\n",
            "worldclimatemarch : 185\n",
            "endclimateimperialism : 175\n"
          ]
        }
      ],
      "source": [
        "# Create some variables describing the hashtags found in our tweets\n",
        "# None of these look out of place\n",
        "hashtag_list = tweet_df.hashtags_clean.to_list()\n",
        "all_hashtags = [hash.lower() for hashtag in hashtag_list for hash in hashtag] # List of all hashtags (with repetition)\n",
        "unique_hashes = list(set(all_hashtags)) # List of all hashtags (without repitition)\n",
        "hash_counts = dict(zip(unique_hashes, [all_hashtags.count(hash) for hash in unique_hashes])) # Dictionary of hashtag counts\n",
        "hash_counter = Counter(hash_counts)\n",
        "common_hashes = hash_counter.most_common(20)\n",
        "for i in common_hashes:\n",
        "    print(i[0], ':', i[1])"
      ]
    },
    {
      "cell_type": "code",
      "execution_count": 83,
      "metadata": {
        "colab": {
          "base_uri": "https://localhost:8080/"
        },
        "id": "laX-wSnJ9U30",
        "outputId": "83d68808-1547-49d3-faf3-189738504abe"
      },
      "outputs": [
        {
          "output_type": "stream",
          "name": "stdout",
          "text": [
            "cop26 : 3583\n",
            "borisjohnson : 1097\n",
            "gretathunberg : 278\n",
            "unfccc : 268\n",
            "aloksharma_rdg : 264\n",
            "youtube : 186\n",
            "un : 167\n",
            "nicolasturgeon : 163\n",
            "cop26_coalition : 153\n",
            "potus : 152\n",
            "unep : 123\n",
            "skynews : 122\n",
            "breezyscroll : 109\n",
            "bbcnews : 102\n",
            "scottmorrisonmp : 99\n",
            "geraldkutney : 98\n",
            "ejwwest : 93\n",
            "veritatem2021 : 87\n",
            "gbnews : 86\n",
            "georgemonbiot : 85\n"
          ]
        }
      ],
      "source": [
        "# Create some variables describing the mentions found in our tweets\n",
        "# None of these look out of place - note that Veritatem2021 is an anti climate change account\n",
        "mention_list = tweet_df.mentions.to_list()\n",
        "all_mention = [mention.lower() for mention_sub_list in mention_list for mention in mention_sub_list] # List of all mentions (with repetition)\n",
        "unique_mention = list(set(all_mention)) # List of all mentions (without repitition)\n",
        "mention_counts = dict(zip(unique_mention, [all_mention.count(mention) for mention in unique_mention])) # Dictionary of mention counts\n",
        "mention_counter = Counter(mention_counts)\n",
        "common_mention = mention_counter.most_common(20)\n",
        "for i in common_mention:\n",
        "    print(i[0], ':', i[1])"
      ]
    },
    {
      "cell_type": "code",
      "execution_count": 84,
      "metadata": {
        "colab": {
          "base_uri": "https://localhost:8080/"
        },
        "id": "gFhAmAjDzPpY",
        "outputId": "21786df6-108a-400b-835f-2fd6fd54ace6"
      },
      "outputs": [
        {
          "output_type": "stream",
          "name": "stdout",
          "text": [
            "globe showing europe-africa : 541\n",
            "backhand index pointing down : 501\n",
            "backhand index pointing right : 378\n",
            "globe showing americas : 297\n",
            "right arrow : 245\n",
            "green heart : 205\n",
            "down arrow : 164\n",
            "thinking face : 152\n",
            "globe showing asia-australia : 150\n",
            "face with tears of joy : 149\n",
            "seedling : 143\n",
            "deciduous tree : 138\n",
            "rolling on the floor laughing : 124\n",
            "clapping hands : 122\n",
            "loudspeaker : 117\n",
            "face with rolling eyes : 99\n",
            "flag: united kingdom : 97\n",
            "flag: scotland : 89\n",
            "thumbs up : 88\n",
            "fire : 85\n"
          ]
        }
      ],
      "source": [
        "# Create some variables describing the emojis found in our tweets\n",
        "# A lot of the emojis seem to be a reference the tweet (i.e index finger pointing right or left) so we may be want to remove them and only add in sentiment where its positive or negative, i.e. smiley faces\n",
        "emoji_list = tweet_df.emojis.to_list()\n",
        "all_emojis = [emojis.lower() for emoji_sub_list in emoji_list for emojis in emoji_sub_list] # List of all emojis (with repetition)\n",
        "unique_emoji = list(set(all_emojis)) # List of all emojis (without repitition)\n",
        "emoji_counts = dict(zip(unique_emoji, [all_emojis.count(emojis) for emojis in unique_emoji])) # Dictionary of emojid counts\n",
        "emoji_counter = Counter(emoji_counts)\n",
        "common_emojis = emoji_counter.most_common(20)\n",
        "for i in common_emojis:\n",
        "    print(i[0], ':', i[1])"
      ]
    },
    {
      "cell_type": "markdown",
      "metadata": {
        "id": "Rk-_duM6w2QH"
      },
      "source": [
        "## Apply Spacy model to our documents"
      ]
    },
    {
      "cell_type": "code",
      "execution_count": 85,
      "metadata": {
        "id": "ZKovQdnQ1yj8"
      },
      "outputs": [],
      "source": [
        "# Apply our spacy model to the documents in our dataset\n",
        "docs = list(nlp.pipe(tweet_df.clean_tweet))"
      ]
    },
    {
      "cell_type": "code",
      "execution_count": 86,
      "metadata": {
        "id": "58Ovigd2bXb-"
      },
      "outputs": [],
      "source": [
        "# Taking a spacy pipeline document, return bool True / False if there is a noun in document\n",
        "def find_noun(spacy_doc):\n",
        "    noun_flag = 0\n",
        "    for token in spacy_doc:\n",
        "        if token.pos_ in ('PROPN', 'PRON', 'NOUN'):\n",
        "            noun_flag = 1\n",
        "            break\n",
        "\n",
        "    if noun_flag == 1:\n",
        "        return(True)\n",
        "    else:\n",
        "        return(False)"
      ]
    },
    {
      "cell_type": "code",
      "execution_count": 87,
      "metadata": {
        "id": "_kvvzpEIShum"
      },
      "outputs": [],
      "source": [
        "# Add the tokenized text from our Spacy model to our dataset for use with GSDMM.\n",
        "\n",
        "# Remove stop words in our text\n",
        "docs_tokens = []\n",
        "for doc in docs:\n",
        "    docs_tokens.append([token_iter.lemma_.lower() for token_iter in doc if token_iter.is_stop != True])\n",
        "\n",
        "# Removes the spaces from being added as tokens and also remove single character tokens that may be left in the text as well as stop words\n",
        "docs_tokens2 = []\n",
        "for doc in docs:\n",
        "    docs_tokens2.append([token_iter.lemma_.lower() for token_iter in doc if (token_iter.is_stop != True and token_iter.is_punct != True and len(token_iter.lemma_) > 1)])\n",
        "\n",
        "# Manually turn climate change into a bigram if sequential in our tokenized text\n",
        "def manual_bigram(input_list):\n",
        "    for index, item in enumerate(input_list):\n",
        "        if index != len(input_list) - 1:\n",
        "            if item == 'climate' and input_list[index + 1] == 'change':\n",
        "                input_list[index] = 'climate change'\n",
        "                del input_list[index + 1]\n",
        "    return input_list\n",
        "\n",
        "# Create a new column with our text ready for modelling\n",
        "tweet_df['prep_tweet'] = docs_tokens2\n",
        "tweet_df['prep_tweet'] = tweet_df['prep_tweet'].apply(lambda x: manual_bigram(x))"
      ]
    },
    {
      "cell_type": "code",
      "execution_count": 88,
      "metadata": {
        "id": "xrtUh23cxhuZ"
      },
      "outputs": [],
      "source": [
        "# Check our tweets make grammatical sense \n",
        "# Due to the short nature of tweets, sentence structure is hard to code for. Therefore applying a simple check to see if our tweet contains a noun\n",
        "# If it doesn't contain a noun, it is usually referencing an associated tweet or picture which we habe no visibility of from the text.\n",
        "noun_check = []\n",
        "for doc in docs:\n",
        "    noun_check.append(find_noun(doc))\n",
        "\n",
        "tweet_df['noun_check'] = noun_check"
      ]
    },
    {
      "cell_type": "code",
      "execution_count": 89,
      "metadata": {
        "id": "GZAkRbwLZd2z"
      },
      "outputs": [],
      "source": [
        "# Calculate the polarity and subjectivity of each tweet using Spacy's TextBlob pipeline and add to dataset.\n",
        "# Need to revisit to include the sentiment from certain emojis.\n",
        "polarity = []\n",
        "subjectivity = []\n",
        "for doc in docs:\n",
        "    polarity.append(doc._.polarity)\n",
        "    subjectivity.append(doc._.subjectivity)\n",
        "\n",
        "tweet_df['polarity'] = polarity\n",
        "tweet_df['subjectivity'] = subjectivity"
      ]
    },
    {
      "cell_type": "code",
      "execution_count": 90,
      "metadata": {
        "colab": {
          "base_uri": "https://localhost:8080/",
          "height": 580
        },
        "id": "YAvwOuWlQES3",
        "outputId": "d4724fb0-abcd-463a-f4cb-9edc53934da5"
      },
      "outputs": [
        {
          "output_type": "execute_result",
          "data": {
            "text/html": [
              "\n",
              "  <div id=\"df-2e38d76a-ee2d-430a-9af4-f18c836b5973\">\n",
              "    <div class=\"colab-df-container\">\n",
              "      <div>\n",
              "<style scoped>\n",
              "    .dataframe tbody tr th:only-of-type {\n",
              "        vertical-align: middle;\n",
              "    }\n",
              "\n",
              "    .dataframe tbody tr th {\n",
              "        vertical-align: top;\n",
              "    }\n",
              "\n",
              "    .dataframe thead th {\n",
              "        text-align: right;\n",
              "    }\n",
              "</style>\n",
              "<table border=\"1\" class=\"dataframe\">\n",
              "  <thead>\n",
              "    <tr style=\"text-align: right;\">\n",
              "      <th></th>\n",
              "      <th>clean_tweet</th>\n",
              "      <th>emojis</th>\n",
              "      <th>hashtags_clean</th>\n",
              "      <th>mentions</th>\n",
              "      <th>likes</th>\n",
              "      <th>link_check</th>\n",
              "      <th>time</th>\n",
              "      <th>verified</th>\n",
              "      <th>user</th>\n",
              "      <th>tweets</th>\n",
              "      <th>prep_tweet</th>\n",
              "      <th>noun_check</th>\n",
              "      <th>polarity</th>\n",
              "      <th>subjectivity</th>\n",
              "    </tr>\n",
              "  </thead>\n",
              "  <tbody>\n",
              "    <tr>\n",
              "      <th>0</th>\n",
              "      <td>COP26 has been named the must excluding COP ev...</td>\n",
              "      <td>[]</td>\n",
              "      <td>[COP26]</td>\n",
              "      <td>[]</td>\n",
              "      <td>53660</td>\n",
              "      <td>False</td>\n",
              "      <td>2021-11-04 16:20:40</td>\n",
              "      <td>True</td>\n",
              "      <td>Greta Thunberg</td>\n",
              "      <td>#COP26 has been named the must excluding COP e...</td>\n",
              "      <td>[name, exclude, cop, long, climate, conference...</td>\n",
              "      <td>True</td>\n",
              "      <td>-0.125000</td>\n",
              "      <td>0.125000</td>\n",
              "    </tr>\n",
              "    <tr>\n",
              "      <th>1</th>\n",
              "      <td>Indonesia reversed a COP26 pledge to end defor...</td>\n",
              "      <td>[]</td>\n",
              "      <td>[COP26]</td>\n",
              "      <td>[]</td>\n",
              "      <td>5618</td>\n",
              "      <td>True</td>\n",
              "      <td>2021-11-04 14:31:00</td>\n",
              "      <td>True</td>\n",
              "      <td>AJ+</td>\n",
              "      <td>Indonesia reversed a #COP26 pledge to end defo...</td>\n",
              "      <td>[indonesia, reverse, pledge, end, deforestatio...</td>\n",
              "      <td>True</td>\n",
              "      <td>-0.541667</td>\n",
              "      <td>0.791667</td>\n",
              "    </tr>\n",
              "    <tr>\n",
              "      <th>2</th>\n",
              "      <td>Sir David Attenborough full speech to World Le...</td>\n",
              "      <td>[]</td>\n",
              "      <td>[COP26, EyesOnCOP]</td>\n",
              "      <td>[]</td>\n",
              "      <td>5227</td>\n",
              "      <td>True</td>\n",
              "      <td>2021-11-04 10:10:55</td>\n",
              "      <td>True</td>\n",
              "      <td>Chris Packham</td>\n",
              "      <td>Sir David Attenborough full speech to World Le...</td>\n",
              "      <td>[sir, david, attenborough, speech, world, lead...</td>\n",
              "      <td>True</td>\n",
              "      <td>0.350000</td>\n",
              "      <td>0.550000</td>\n",
              "    </tr>\n",
              "    <tr>\n",
              "      <th>3</th>\n",
              "      <td>Francesca Tamma  brings us behavioural insight...</td>\n",
              "      <td>[]</td>\n",
              "      <td>[COP26]</td>\n",
              "      <td>[SwissRe]</td>\n",
              "      <td>6</td>\n",
              "      <td>True</td>\n",
              "      <td>2021-11-04 10:10:55</td>\n",
              "      <td>True</td>\n",
              "      <td>ABI</td>\n",
              "      <td>Francesca Tamma, @SwissRe, brings us behaviour...</td>\n",
              "      <td>[francesca, tamma, bring, behavioural, insight...</td>\n",
              "      <td>True</td>\n",
              "      <td>0.000000</td>\n",
              "      <td>0.000000</td>\n",
              "    </tr>\n",
              "    <tr>\n",
              "      <th>4</th>\n",
              "      <td>I strongly recommend taking 12 minutes to reco...</td>\n",
              "      <td>[]</td>\n",
              "      <td>[OurBlueHeart, COP26, HopeOutOfTheBlue]</td>\n",
              "      <td>[]</td>\n",
              "      <td>0</td>\n",
              "      <td>True</td>\n",
              "      <td>2021-11-04 10:10:53</td>\n",
              "      <td>False</td>\n",
              "      <td>Charlotte Coombes</td>\n",
              "      <td>I strongly recommend taking 12 minutes to reco...</td>\n",
              "      <td>[strongly, recommend, take, 12, minute, reconn...</td>\n",
              "      <td>True</td>\n",
              "      <td>0.366667</td>\n",
              "      <td>0.416667</td>\n",
              "    </tr>\n",
              "  </tbody>\n",
              "</table>\n",
              "</div>\n",
              "      <button class=\"colab-df-convert\" onclick=\"convertToInteractive('df-2e38d76a-ee2d-430a-9af4-f18c836b5973')\"\n",
              "              title=\"Convert this dataframe to an interactive table.\"\n",
              "              style=\"display:none;\">\n",
              "        \n",
              "  <svg xmlns=\"http://www.w3.org/2000/svg\" height=\"24px\"viewBox=\"0 0 24 24\"\n",
              "       width=\"24px\">\n",
              "    <path d=\"M0 0h24v24H0V0z\" fill=\"none\"/>\n",
              "    <path d=\"M18.56 5.44l.94 2.06.94-2.06 2.06-.94-2.06-.94-.94-2.06-.94 2.06-2.06.94zm-11 1L8.5 8.5l.94-2.06 2.06-.94-2.06-.94L8.5 2.5l-.94 2.06-2.06.94zm10 10l.94 2.06.94-2.06 2.06-.94-2.06-.94-.94-2.06-.94 2.06-2.06.94z\"/><path d=\"M17.41 7.96l-1.37-1.37c-.4-.4-.92-.59-1.43-.59-.52 0-1.04.2-1.43.59L10.3 9.45l-7.72 7.72c-.78.78-.78 2.05 0 2.83L4 21.41c.39.39.9.59 1.41.59.51 0 1.02-.2 1.41-.59l7.78-7.78 2.81-2.81c.8-.78.8-2.07 0-2.86zM5.41 20L4 18.59l7.72-7.72 1.47 1.35L5.41 20z\"/>\n",
              "  </svg>\n",
              "      </button>\n",
              "      \n",
              "  <style>\n",
              "    .colab-df-container {\n",
              "      display:flex;\n",
              "      flex-wrap:wrap;\n",
              "      gap: 12px;\n",
              "    }\n",
              "\n",
              "    .colab-df-convert {\n",
              "      background-color: #E8F0FE;\n",
              "      border: none;\n",
              "      border-radius: 50%;\n",
              "      cursor: pointer;\n",
              "      display: none;\n",
              "      fill: #1967D2;\n",
              "      height: 32px;\n",
              "      padding: 0 0 0 0;\n",
              "      width: 32px;\n",
              "    }\n",
              "\n",
              "    .colab-df-convert:hover {\n",
              "      background-color: #E2EBFA;\n",
              "      box-shadow: 0px 1px 2px rgba(60, 64, 67, 0.3), 0px 1px 3px 1px rgba(60, 64, 67, 0.15);\n",
              "      fill: #174EA6;\n",
              "    }\n",
              "\n",
              "    [theme=dark] .colab-df-convert {\n",
              "      background-color: #3B4455;\n",
              "      fill: #D2E3FC;\n",
              "    }\n",
              "\n",
              "    [theme=dark] .colab-df-convert:hover {\n",
              "      background-color: #434B5C;\n",
              "      box-shadow: 0px 1px 3px 1px rgba(0, 0, 0, 0.15);\n",
              "      filter: drop-shadow(0px 1px 2px rgba(0, 0, 0, 0.3));\n",
              "      fill: #FFFFFF;\n",
              "    }\n",
              "  </style>\n",
              "\n",
              "      <script>\n",
              "        const buttonEl =\n",
              "          document.querySelector('#df-2e38d76a-ee2d-430a-9af4-f18c836b5973 button.colab-df-convert');\n",
              "        buttonEl.style.display =\n",
              "          google.colab.kernel.accessAllowed ? 'block' : 'none';\n",
              "\n",
              "        async function convertToInteractive(key) {\n",
              "          const element = document.querySelector('#df-2e38d76a-ee2d-430a-9af4-f18c836b5973');\n",
              "          const dataTable =\n",
              "            await google.colab.kernel.invokeFunction('convertToInteractive',\n",
              "                                                     [key], {});\n",
              "          if (!dataTable) return;\n",
              "\n",
              "          const docLinkHtml = 'Like what you see? Visit the ' +\n",
              "            '<a target=\"_blank\" href=https://colab.research.google.com/notebooks/data_table.ipynb>data table notebook</a>'\n",
              "            + ' to learn more about interactive tables.';\n",
              "          element.innerHTML = '';\n",
              "          dataTable['output_type'] = 'display_data';\n",
              "          await google.colab.output.renderOutput(dataTable, element);\n",
              "          const docLink = document.createElement('div');\n",
              "          docLink.innerHTML = docLinkHtml;\n",
              "          element.appendChild(docLink);\n",
              "        }\n",
              "      </script>\n",
              "    </div>\n",
              "  </div>\n",
              "  "
            ],
            "text/plain": [
              "                                         clean_tweet  ... subjectivity\n",
              "0  COP26 has been named the must excluding COP ev...  ...     0.125000\n",
              "1  Indonesia reversed a COP26 pledge to end defor...  ...     0.791667\n",
              "2  Sir David Attenborough full speech to World Le...  ...     0.550000\n",
              "3  Francesca Tamma  brings us behavioural insight...  ...     0.000000\n",
              "4  I strongly recommend taking 12 minutes to reco...  ...     0.416667\n",
              "\n",
              "[5 rows x 14 columns]"
            ]
          },
          "metadata": {},
          "execution_count": 90
        }
      ],
      "source": [
        "# Filter out those tweets that don't have nouns in them\n",
        "df = tweet_df[tweet_df['noun_check'] == True]\n",
        "df.head()"
      ]
    },
    {
      "cell_type": "code",
      "execution_count": 91,
      "metadata": {
        "colab": {
          "base_uri": "https://localhost:8080/"
        },
        "id": "PPx6kkqVU-0T",
        "outputId": "5e79cf47-b669-4993-9ff7-287206e38774"
      },
      "outputs": [
        {
          "output_type": "stream",
          "name": "stdout",
          "text": [
            "The shortest tweet is: 4\n",
            "The 5% percentile: 42.0\n",
            "The mean: 164.0\n",
            "The 95th percentile: 265.0\n",
            "The longest tweet is: 283\n"
          ]
        }
      ],
      "source": [
        "# Look at tweet lengths - note these include the stop words, so length is overstated for modelling purposes\n",
        "print('The shortest tweet is:', df['clean_tweet'].str.len().min())\n",
        "print('The 5% percentile:', df['clean_tweet'].str.len().quantile(q=0.05))\n",
        "print('The mean:', df['clean_tweet'].str.len().quantile(q=0.5))\n",
        "print('The 95th percentile:', df['clean_tweet'].str.len().quantile(q=0.95))\n",
        "print('The longest tweet is:', df['clean_tweet'].str.len().max())\n"
      ]
    },
    {
      "cell_type": "code",
      "execution_count": 92,
      "metadata": {
        "colab": {
          "base_uri": "https://localhost:8080/",
          "height": 573
        },
        "id": "S6vUN0BYcZ2Y",
        "outputId": "9331ba42-fcf0-4ec3-aab6-f1439d0eb8d0"
      },
      "outputs": [
        {
          "output_type": "stream",
          "name": "stderr",
          "text": [
            "/usr/local/lib/python3.7/dist-packages/seaborn/distributions.py:2619: FutureWarning: `distplot` is a deprecated function and will be removed in a future version. Please adapt your code to use either `displot` (a figure-level function with similar flexibility) or `histplot` (an axes-level function for histograms).\n",
            "  warnings.warn(msg, FutureWarning)\n"
          ]
        },
        {
          "output_type": "execute_result",
          "data": {
            "text/plain": [
              "<matplotlib.axes._subplots.AxesSubplot at 0x7f05c93e9ad0>"
            ]
          },
          "metadata": {},
          "execution_count": 92
        },
        {
          "output_type": "display_data",
          "data": {
            "image/png": "[encoded data removed]",
            "text/plain": [
              "<Figure size 576x576 with 1 Axes>"
            ]
          },
          "metadata": {
            "needs_background": "light"
          }
        }
      ],
      "source": [
        "# Plot tweet length distribution\n",
        "plt.figure(figsize=(8,8))\n",
        "sns.distplot(df.clean_tweet.str.len())"
      ]
    },
    {
      "cell_type": "code",
      "execution_count": 93,
      "metadata": {
        "colab": {
          "base_uri": "https://localhost:8080/",
          "height": 852
        },
        "id": "1_N1U1jSYQGC",
        "outputId": "d51cc108-7e7a-4b11-a842-9b59a810bfe2"
      },
      "outputs": [
        {
          "output_type": "execute_result",
          "data": {
            "text/html": [
              "\n",
              "  <div id=\"df-96d6cfe0-6e06-4ab6-9257-85c2bf4331e3\">\n",
              "    <div class=\"colab-df-container\">\n",
              "      <div>\n",
              "<style scoped>\n",
              "    .dataframe tbody tr th:only-of-type {\n",
              "        vertical-align: middle;\n",
              "    }\n",
              "\n",
              "    .dataframe tbody tr th {\n",
              "        vertical-align: top;\n",
              "    }\n",
              "\n",
              "    .dataframe thead th {\n",
              "        text-align: right;\n",
              "    }\n",
              "</style>\n",
              "<table border=\"1\" class=\"dataframe\">\n",
              "  <thead>\n",
              "    <tr style=\"text-align: right;\">\n",
              "      <th></th>\n",
              "      <th>clean_tweet</th>\n",
              "      <th>emojis</th>\n",
              "      <th>hashtags_clean</th>\n",
              "      <th>mentions</th>\n",
              "      <th>likes</th>\n",
              "      <th>link_check</th>\n",
              "      <th>time</th>\n",
              "      <th>verified</th>\n",
              "      <th>user</th>\n",
              "      <th>tweets</th>\n",
              "      <th>prep_tweet</th>\n",
              "      <th>noun_check</th>\n",
              "      <th>polarity</th>\n",
              "      <th>subjectivity</th>\n",
              "    </tr>\n",
              "  </thead>\n",
              "  <tbody>\n",
              "    <tr>\n",
              "      <th>21</th>\n",
              "      <td>President at COP26</td>\n",
              "      <td>[]</td>\n",
              "      <td>[COP26]</td>\n",
              "      <td>[GreenCongressKE, Martin_Ogindo]</td>\n",
              "      <td>1</td>\n",
              "      <td>True</td>\n",
              "      <td>2021-11-04 10:10:29</td>\n",
              "      <td>False</td>\n",
              "      <td>Harold Mugozi</td>\n",
              "      <td>@GreenCongressKE President  @Martin_Ogindo at ...</td>\n",
              "      <td>[president]</td>\n",
              "      <td>True</td>\n",
              "      <td>0.000</td>\n",
              "      <td>0.000</td>\n",
              "    </tr>\n",
              "    <tr>\n",
              "      <th>179</th>\n",
              "      <td>Its Energy Day at COP26</td>\n",
              "      <td>[]</td>\n",
              "      <td>[COP26]</td>\n",
              "      <td>[]</td>\n",
              "      <td>0</td>\n",
              "      <td>True</td>\n",
              "      <td>2021-11-04 10:06:59</td>\n",
              "      <td>False</td>\n",
              "      <td>Burnham &amp; Weston Energy CIC</td>\n",
              "      <td>It's Energy Day at #COP26. https://t.co/CHLINu...</td>\n",
              "      <td>[energy, day]</td>\n",
              "      <td>True</td>\n",
              "      <td>0.000</td>\n",
              "      <td>0.000</td>\n",
              "    </tr>\n",
              "    <tr>\n",
              "      <th>224</th>\n",
              "      <td>We have liftoff GlasgowDeclaration COP26</td>\n",
              "      <td>[]</td>\n",
              "      <td>[GlasgowDeclaration, COP26]</td>\n",
              "      <td>[1PlanetTourism, UNWTO, VisitScotland, Tourism...</td>\n",
              "      <td>27</td>\n",
              "      <td>True</td>\n",
              "      <td>2021-11-04 10:05:35</td>\n",
              "      <td>False</td>\n",
              "      <td>Travel Foundation</td>\n",
              "      <td>We have lift-off! #GlasgowDeclaration #COP26 @...</td>\n",
              "      <td>[liftoff, glasgowdeclaration]</td>\n",
              "      <td>True</td>\n",
              "      <td>0.000</td>\n",
              "      <td>0.000</td>\n",
              "    </tr>\n",
              "    <tr>\n",
              "      <th>229</th>\n",
              "      <td>COP26 Do as I say not as I do</td>\n",
              "      <td>[]</td>\n",
              "      <td>[COP26]</td>\n",
              "      <td>[]</td>\n",
              "      <td>2</td>\n",
              "      <td>False</td>\n",
              "      <td>2021-11-04 10:05:28</td>\n",
              "      <td>False</td>\n",
              "      <td>chris collings 💚⚓️💙🏴󠁧󠁢󠁷󠁬󠁳󠁿🇬🇧</td>\n",
              "      <td>#COP26  Do as I say, not as I do.</td>\n",
              "      <td>[]</td>\n",
              "      <td>True</td>\n",
              "      <td>0.000</td>\n",
              "      <td>0.000</td>\n",
              "    </tr>\n",
              "    <tr>\n",
              "      <th>232</th>\n",
              "      <td>And back at the COP26</td>\n",
              "      <td>[]</td>\n",
              "      <td>[COP26]</td>\n",
              "      <td>[]</td>\n",
              "      <td>1</td>\n",
              "      <td>True</td>\n",
              "      <td>2021-11-04 10:05:23</td>\n",
              "      <td>False</td>\n",
              "      <td>Oceane</td>\n",
              "      <td>And back at the #COP26 https://t.co/Zwfpw9eGeK</td>\n",
              "      <td>[]</td>\n",
              "      <td>True</td>\n",
              "      <td>0.000</td>\n",
              "      <td>0.000</td>\n",
              "    </tr>\n",
              "    <tr>\n",
              "      <th>...</th>\n",
              "      <td>...</td>\n",
              "      <td>...</td>\n",
              "      <td>...</td>\n",
              "      <td>...</td>\n",
              "      <td>...</td>\n",
              "      <td>...</td>\n",
              "      <td>...</td>\n",
              "      <td>...</td>\n",
              "      <td>...</td>\n",
              "      <td>...</td>\n",
              "      <td>...</td>\n",
              "      <td>...</td>\n",
              "      <td>...</td>\n",
              "      <td>...</td>\n",
              "    </tr>\n",
              "    <tr>\n",
              "      <th>37662</th>\n",
              "      <td>Unexpected climate change news</td>\n",
              "      <td>[]</td>\n",
              "      <td>[]</td>\n",
              "      <td>[]</td>\n",
              "      <td>0</td>\n",
              "      <td>True</td>\n",
              "      <td>2021-11-15 08:00:53</td>\n",
              "      <td>False</td>\n",
              "      <td>#RaceIsASocialConstruct</td>\n",
              "      <td>Unexpected climate change news https://t.co/Xl...</td>\n",
              "      <td>[unexpected, climate change, news]</td>\n",
              "      <td>True</td>\n",
              "      <td>0.100</td>\n",
              "      <td>1.000</td>\n",
              "    </tr>\n",
              "    <tr>\n",
              "      <th>37714</th>\n",
              "      <td>Another ignorant comment</td>\n",
              "      <td>[]</td>\n",
              "      <td>[]</td>\n",
              "      <td>[Spectrumofreas1, jordanbpeterson]</td>\n",
              "      <td>0</td>\n",
              "      <td>True</td>\n",
              "      <td>2021-11-15 07:57:21</td>\n",
              "      <td>False</td>\n",
              "      <td>Simon Hampshire</td>\n",
              "      <td>@Spectrumofreas1 @jordanbpeterson Another igno...</td>\n",
              "      <td>[ignorant, comment]</td>\n",
              "      <td>True</td>\n",
              "      <td>0.000</td>\n",
              "      <td>0.000</td>\n",
              "    </tr>\n",
              "    <tr>\n",
              "      <th>37715</th>\n",
              "      <td>We all know its due to climate change</td>\n",
              "      <td>[]</td>\n",
              "      <td>[]</td>\n",
              "      <td>[KoolKat1025, GMB, Lauratobin1]</td>\n",
              "      <td>0</td>\n",
              "      <td>False</td>\n",
              "      <td>2021-11-15 07:57:17</td>\n",
              "      <td>False</td>\n",
              "      <td>Phil</td>\n",
              "      <td>@KoolKat1025 @GMB @Lauratobin1 We all know it'...</td>\n",
              "      <td>[know, climate change]</td>\n",
              "      <td>True</td>\n",
              "      <td>-0.125</td>\n",
              "      <td>0.375</td>\n",
              "    </tr>\n",
              "    <tr>\n",
              "      <th>37786</th>\n",
              "      <td>What climate change What crisis</td>\n",
              "      <td>[]</td>\n",
              "      <td>[]</td>\n",
              "      <td>[kinsellawarren]</td>\n",
              "      <td>0</td>\n",
              "      <td>False</td>\n",
              "      <td>2021-11-15 07:47:56</td>\n",
              "      <td>False</td>\n",
              "      <td>Gregory Michael</td>\n",
              "      <td>@kinsellawarren What climate change? What crisis?</td>\n",
              "      <td>[climate change, crisis]</td>\n",
              "      <td>True</td>\n",
              "      <td>0.000</td>\n",
              "      <td>0.000</td>\n",
              "    </tr>\n",
              "    <tr>\n",
              "      <th>37806</th>\n",
              "      <td>Racism and climate change</td>\n",
              "      <td>[]</td>\n",
              "      <td>[]</td>\n",
              "      <td>[leslibless]</td>\n",
              "      <td>0</td>\n",
              "      <td>False</td>\n",
              "      <td>2021-11-15 07:45:23</td>\n",
              "      <td>False</td>\n",
              "      <td>Patrick Cox</td>\n",
              "      <td>@leslibless Racism and climate change</td>\n",
              "      <td>[racism, climate change]</td>\n",
              "      <td>True</td>\n",
              "      <td>0.000</td>\n",
              "      <td>0.000</td>\n",
              "    </tr>\n",
              "  </tbody>\n",
              "</table>\n",
              "<p>1858 rows × 14 columns</p>\n",
              "</div>\n",
              "      <button class=\"colab-df-convert\" onclick=\"convertToInteractive('df-96d6cfe0-6e06-4ab6-9257-85c2bf4331e3')\"\n",
              "              title=\"Convert this dataframe to an interactive table.\"\n",
              "              style=\"display:none;\">\n",
              "        \n",
              "  <svg xmlns=\"http://www.w3.org/2000/svg\" height=\"24px\"viewBox=\"0 0 24 24\"\n",
              "       width=\"24px\">\n",
              "    <path d=\"M0 0h24v24H0V0z\" fill=\"none\"/>\n",
              "    <path d=\"M18.56 5.44l.94 2.06.94-2.06 2.06-.94-2.06-.94-.94-2.06-.94 2.06-2.06.94zm-11 1L8.5 8.5l.94-2.06 2.06-.94-2.06-.94L8.5 2.5l-.94 2.06-2.06.94zm10 10l.94 2.06.94-2.06 2.06-.94-2.06-.94-.94-2.06-.94 2.06-2.06.94z\"/><path d=\"M17.41 7.96l-1.37-1.37c-.4-.4-.92-.59-1.43-.59-.52 0-1.04.2-1.43.59L10.3 9.45l-7.72 7.72c-.78.78-.78 2.05 0 2.83L4 21.41c.39.39.9.59 1.41.59.51 0 1.02-.2 1.41-.59l7.78-7.78 2.81-2.81c.8-.78.8-2.07 0-2.86zM5.41 20L4 18.59l7.72-7.72 1.47 1.35L5.41 20z\"/>\n",
              "  </svg>\n",
              "      </button>\n",
              "      \n",
              "  <style>\n",
              "    .colab-df-container {\n",
              "      display:flex;\n",
              "      flex-wrap:wrap;\n",
              "      gap: 12px;\n",
              "    }\n",
              "\n",
              "    .colab-df-convert {\n",
              "      background-color: #E8F0FE;\n",
              "      border: none;\n",
              "      border-radius: 50%;\n",
              "      cursor: pointer;\n",
              "      display: none;\n",
              "      fill: #1967D2;\n",
              "      height: 32px;\n",
              "      padding: 0 0 0 0;\n",
              "      width: 32px;\n",
              "    }\n",
              "\n",
              "    .colab-df-convert:hover {\n",
              "      background-color: #E2EBFA;\n",
              "      box-shadow: 0px 1px 2px rgba(60, 64, 67, 0.3), 0px 1px 3px 1px rgba(60, 64, 67, 0.15);\n",
              "      fill: #174EA6;\n",
              "    }\n",
              "\n",
              "    [theme=dark] .colab-df-convert {\n",
              "      background-color: #3B4455;\n",
              "      fill: #D2E3FC;\n",
              "    }\n",
              "\n",
              "    [theme=dark] .colab-df-convert:hover {\n",
              "      background-color: #434B5C;\n",
              "      box-shadow: 0px 1px 3px 1px rgba(0, 0, 0, 0.15);\n",
              "      filter: drop-shadow(0px 1px 2px rgba(0, 0, 0, 0.3));\n",
              "      fill: #FFFFFF;\n",
              "    }\n",
              "  </style>\n",
              "\n",
              "      <script>\n",
              "        const buttonEl =\n",
              "          document.querySelector('#df-96d6cfe0-6e06-4ab6-9257-85c2bf4331e3 button.colab-df-convert');\n",
              "        buttonEl.style.display =\n",
              "          google.colab.kernel.accessAllowed ? 'block' : 'none';\n",
              "\n",
              "        async function convertToInteractive(key) {\n",
              "          const element = document.querySelector('#df-96d6cfe0-6e06-4ab6-9257-85c2bf4331e3');\n",
              "          const dataTable =\n",
              "            await google.colab.kernel.invokeFunction('convertToInteractive',\n",
              "                                                     [key], {});\n",
              "          if (!dataTable) return;\n",
              "\n",
              "          const docLinkHtml = 'Like what you see? Visit the ' +\n",
              "            '<a target=\"_blank\" href=https://colab.research.google.com/notebooks/data_table.ipynb>data table notebook</a>'\n",
              "            + ' to learn more about interactive tables.';\n",
              "          element.innerHTML = '';\n",
              "          dataTable['output_type'] = 'display_data';\n",
              "          await google.colab.output.renderOutput(dataTable, element);\n",
              "          const docLink = document.createElement('div');\n",
              "          docLink.innerHTML = docLinkHtml;\n",
              "          element.appendChild(docLink);\n",
              "        }\n",
              "      </script>\n",
              "    </div>\n",
              "  </div>\n",
              "  "
            ],
            "text/plain": [
              "                                    clean_tweet emojis  ... polarity subjectivity\n",
              "21                           President at COP26     []  ...    0.000        0.000\n",
              "179                     Its Energy Day at COP26     []  ...    0.000        0.000\n",
              "224    We have liftoff GlasgowDeclaration COP26     []  ...    0.000        0.000\n",
              "229               COP26 Do as I say not as I do     []  ...    0.000        0.000\n",
              "232                       And back at the COP26     []  ...    0.000        0.000\n",
              "...                                         ...    ...  ...      ...          ...\n",
              "37662            Unexpected climate change news     []  ...    0.100        1.000\n",
              "37714                  Another ignorant comment     []  ...    0.000        0.000\n",
              "37715     We all know its due to climate change     []  ...   -0.125        0.375\n",
              "37786           What climate change What crisis     []  ...    0.000        0.000\n",
              "37806                 Racism and climate change     []  ...    0.000        0.000\n",
              "\n",
              "[1858 rows x 14 columns]"
            ]
          },
          "metadata": {},
          "execution_count": 93
        }
      ],
      "source": [
        "# Look at shortest tweets. These are mainly aimed directly at people (replies?) or reference other images or tweets.\n",
        "# They contain nouns (hence passed the exclusion) but don't seem to have a pattern I can easily discern around noun type or determiner. \n",
        "\n",
        "df[df['clean_tweet'].str.len() < 42]"
      ]
    },
    {
      "cell_type": "code",
      "source": [
        "# Remove tweets that are too short and unrepresentative of our overall data from our graph\n",
        "df = df[df['clean_tweet'].str.len() > 42]"
      ],
      "metadata": {
        "id": "AmTNNhKtQKLS"
      },
      "execution_count": 94,
      "outputs": []
    },
    {
      "cell_type": "code",
      "execution_count": 95,
      "metadata": {
        "colab": {
          "base_uri": "https://localhost:8080/",
          "height": 541
        },
        "id": "MlcprxsUam0r",
        "outputId": "3393c702-f5af-4743-aa4c-20bd8cb5789f"
      },
      "outputs": [
        {
          "output_type": "execute_result",
          "data": {
            "text/plain": [
              "Text(0, 0.5, '<-- Facts -------- Opinions -->')"
            ]
          },
          "metadata": {},
          "execution_count": 95
        },
        {
          "output_type": "display_data",
          "data": {
            "image/png": "[encoded data removed]",
            "text/plain": [
              "<Figure size 1080x576 with 1 Axes>"
            ]
          },
          "metadata": {
            "needs_background": "light"
          }
        }
      ],
      "source": [
        "# Plot the sentiment scores of all of our tweets.\n",
        "# Can clearly see a triangular shape, which showing that the more factual a tweet is, the more likely it is to \n",
        "plt.figure(figsize = (15,8))\n",
        "plt.scatter(df['polarity'], df['subjectivity'])\n",
        "plt.axhline(y = df['subjectivity'].mean(), color='r', linestyle='-')\n",
        "plt.axvline(x = df['polarity'].mean(), color='r', linestyle='-')\n",
        "plt.title('Sentiment Analysis', fontsize=20)\n",
        "plt.xlabel('<-- Negative -------- Positive -->', fontsize=15)\n",
        "plt.ylabel('<-- Facts -------- Opinions -->', fontsize=15)"
      ]
    },
    {
      "cell_type": "code",
      "execution_count": 96,
      "metadata": {
        "id": "8C7UCNRe1yac"
      },
      "outputs": [],
      "source": [
        "# Define the vocab set for our tweets\n",
        "vocab = set(word for sentence in df.prep_tweet for word in sentence)\n",
        "n_terms = len(vocab)"
      ]
    },
    {
      "cell_type": "code",
      "execution_count": null,
      "metadata": {
        "id": "zW2ApheGwCS5"
      },
      "outputs": [],
      "source": [
        "# Fit GSDMM model\n",
        "mgp = MovieGroupProcess(K = 30, alpha = 0.09, beta = 0.11, n_iters = 40)\n",
        "y = mgp.fit(df.prep_tweet, n_terms)"
      ]
    },
    {
      "cell_type": "code",
      "execution_count": 112,
      "metadata": {
        "id": "CdKxCIRvP4qf"
      },
      "outputs": [],
      "source": [
        "# Save GSDMM model\n",
        "with open(r'models/v1.model', 'wb') as f:\n",
        " pickle.dump(mgp, f)\n",
        " f.close()"
      ]
    },
    {
      "cell_type": "code",
      "source": [
        "# # Load saved model\n",
        "# mgp = pickle.load(open(r'models/v1.model', 'rb'))"
      ],
      "metadata": {
        "id": "Tgfm0qVcMxIG"
      },
      "execution_count": 99,
      "outputs": []
    },
    {
      "cell_type": "code",
      "execution_count": 113,
      "metadata": {
        "id": "8nOrFohTwROW"
      },
      "outputs": [],
      "source": [
        "# Function to show the most used words in each of our categories \n",
        "def top_words(mgp, top_clusters, num_words):\n",
        "    for cluster in top_clusters:\n",
        "        sort_dicts = sorted(mgp.cluster_word_distribution[cluster].items(), key = lambda k: k[1], reverse = True)[:num_words]\n",
        "        print ('-'*30)\n",
        "        print('Cluster {}: {}'.format(cluster, sort_dicts))"
      ]
    },
    {
      "cell_type": "code",
      "source": [
        "# Output the clusters information in a readable format\n",
        "doc_count = np.array(mgp.cluster_doc_count)\n",
        "print('Number of documents per topic :', doc_count)\n",
        "print('*'*20)\n",
        "# Topics sorted by the number of document they are allocated to\n",
        "top_index = doc_count.argsort()[-15:][::-1]\n",
        "print('Most important clusters (by number of docs inside):', top_index)\n",
        "print('*'*20)\n",
        "# Show the top 10 words in term frequency for each cluster \n",
        "top_words(mgp, top_index, 10)"
      ],
      "metadata": {
        "colab": {
          "base_uri": "https://localhost:8080/"
        },
        "id": "KN_OfaRkz1c9",
        "outputId": "2abfa5c5-7bb2-4c10-8f4a-97fb636282f1"
      },
      "execution_count": 114,
      "outputs": [
        {
          "output_type": "stream",
          "name": "stdout",
          "text": [
            "Number of documents per topic : [5361   10  413   75 2332 4351  361   52   94 3272 4260    2    3    9\n",
            "   24   22   24 2922    2    3    4   10   53 9175   78    2   36 2793\n",
            "   16   39]\n",
            "********************\n",
            "Most important clusters (by number of docs inside): [23  0  5 10  9 17 27  4  2  6  8 24  3 22  7]\n",
            "********************\n",
            "------------------------------\n",
            "Cluster 23: [('climate change', 5692), ('not', 2281), ('people', 1253), ('climate', 958), ('like', 818), ('need', 761), ('world', 733), ('think', 716), ('change', 654), ('go', 583)]\n",
            "------------------------------\n",
            "Cluster 0: [('climate', 1696), ('country', 1011), ('climate change', 947), ('coal', 896), ('fossil', 756), ('fuel', 713), ('glasgow', 633), ('deal', 602), ('agreement', 600), ('draft', 580)]\n",
            "------------------------------\n",
            "Cluster 5: [('climate change', 1739), ('climate', 1165), ('need', 569), ('action', 496), ('climatechange', 489), ('nature', 473), ('global', 392), ('health', 390), ('world', 384), ('impact', 383)]\n",
            "------------------------------\n",
            "Cluster 10: [('climate', 904), ('today', 815), ('join', 804), ('climate change', 783), ('event', 753), ('glasgow', 630), ('day', 482), ('live', 404), ('action', 395), ('watch', 312)]\n",
            "------------------------------\n",
            "Cluster 9: [('energy', 796), ('emission', 554), ('carbon', 464), ('transport', 463), ('climate change', 460), ('zero', 379), ('day', 339), ('today', 333), ('green', 323), ('new', 323)]\n",
            "------------------------------\n",
            "Cluster 17: [('climate', 1010), ('climate change', 504), ('world', 453), ('action', 433), ('people', 372), ('leader', 355), ('glasgow', 341), ('need', 268), ('blah', 259), ('climateaction', 246)]\n",
            "------------------------------\n",
            "Cluster 27: [('climate change', 1662), ('year', 357), ('climate', 299), ('not', 295), ('people', 262), ('world', 257), ('global', 255), ('water', 205), ('climatechange', 204), ('cause', 204)]\n",
            "------------------------------\n",
            "Cluster 4: [('climate change', 352), ('not', 341), ('johnson', 305), ('boris', 296), ('glasgow', 268), ('scotland', 183), ('uk', 162), ('like', 155), ('pm', 153), ('conference', 153)]\n",
            "------------------------------\n",
            "Cluster 2: [('climate change', 48), ('plastic', 45), ('save', 42), ('climatechange', 35), ('climateaction', 35), ('good', 34), ('water', 34), ('help', 33), ('today', 32), ('planet', 31)]\n",
            "------------------------------\n",
            "Cluster 6: [('climate change', 212), ('diagnose', 78), ('world', 55), ('climatechange', 55), ('climatecrisis', 54), ('time4truth', 53), ('doctor', 53), ('woman', 50), ('patient', 50), ('globalcrisis', 46)]\n",
            "------------------------------\n",
            "Cluster 8: [('climate change', 35), ('want', 35), ('nominee', 29), ('bankrupt', 29), ('industry', 23), ('tackle', 22), ('biden', 22), ('treasury', 22), ('fuel', 20), ('gas', 20)]\n",
            "------------------------------\n",
            "Cluster 24: [('unknown', 53), ('climate change', 39), ('thing', 27), ('company', 27), ('real', 27), ('carbon', 25), ('million', 25), ('scotland', 24), ('know', 21), ('alt', 19)]\n",
            "------------------------------\n",
            "Cluster 3: [('fab', 44), ('antiquesaregreen', 38), ('christmas', 28), ('antiquejewllery', 21), ('mastercheftheprofessional', 21), ('climateactionnow', 15), ('uprootthesystem', 15), ('klimalaya', 15), ('endclimateimperialism', 14), ('worldclimatemarch', 14)]\n",
            "------------------------------\n",
            "Cluster 22: [('evros', 33), ('support', 19), ('togetherforourplanet', 14), ('electricvehicle', 11), ('proud', 9), ('live', 8), ('cop26glasgow', 8), ('cnn', 8), ('follow', 7), ('partner', 7)]\n",
            "------------------------------\n",
            "Cluster 7: [('follow', 20), ('project', 17), ('minneapolis', 15), ('opportunity', 11), ('thank', 10), ('progressive', 10), ('wonderful', 9), ('truck', 8), ('itt', 8), ('hub', 8)]\n"
          ]
        }
      ]
    },
    {
      "cell_type": "code",
      "execution_count": 102,
      "metadata": {
        "colab": {
          "base_uri": "https://localhost:8080/"
        },
        "id": "lLSVM2QXf0la",
        "outputId": "1d96d4c5-5942-4667-bb13-227e067c9e30"
      },
      "outputs": [
        {
          "output_type": "execute_result",
          "data": {
            "text/plain": [
              "[('nestling', 1),\n",
              " ('mwe', 1),\n",
              " ('altright', 1),\n",
              " ('antimuslim', 1),\n",
              " ('binfire', 1),\n",
              " ('whiz', 1),\n",
              " ('dinkum', 1),\n",
              " ('anticolonialism', 1),\n",
              " ('pandemicsrecessionsclimate', 1),\n",
              " ('nk', 1),\n",
              " ('hailstone', 1),\n",
              " ('hyperinflate', 1),\n",
              " ('steele', 1),\n",
              " ('7459pm', 1),\n",
              " ('saveourhome', 1),\n",
              " ('cheeseburger', 1),\n",
              " ('ethno', 1),\n",
              " ('joycemorrison', 1),\n",
              " ('bitchy', 1),\n",
              " ('industy', 1),\n",
              " ('methese', 1),\n",
              " ('dearie', 1),\n",
              " ('ahahahaahha', 1),\n",
              " ('boxt', 1),\n",
              " ('andi', 1),\n",
              " ('lance', 1),\n",
              " ('markus', 1),\n",
              " ('contabo', 1),\n",
              " ('blnk', 1),\n",
              " ('recon', 1),\n",
              " ('waterheat', 1),\n",
              " ('gsm', 1),\n",
              " ('infirstfor', 1),\n",
              " ('mombasa', 1),\n",
              " ('qn', 1),\n",
              " ('detoxification', 1),\n",
              " ('changenothing', 1),\n",
              " ('todayfighte', 1),\n",
              " ('exercisebuildingblock', 1),\n",
              " ('circulationincluding', 1),\n",
              " ('bodyblood', 1),\n",
              " ('nutrients', 1),\n",
              " ('bloodflowmatter', 1),\n",
              " ('ideas', 1),\n",
              " ('bitsnpiece', 1),\n",
              " ('mosty', 1),\n",
              " ('agony', 1),\n",
              " ('fullyemerge', 1),\n",
              " ('bicycling', 1)]"
            ]
          },
          "metadata": {},
          "execution_count": 102
        }
      ],
      "source": [
        "vocab_count = Counter(word for sentence in df.prep_tweet for word in sentence)\n",
        "vocab_count.most_common()[:-50:-1]"
      ]
    },
    {
      "cell_type": "code",
      "execution_count": 102,
      "metadata": {
        "id": "Hg3vUKyzP4WG"
      },
      "outputs": [],
      "source": [
        ""
      ]
    },
    {
      "cell_type": "code",
      "execution_count": 102,
      "metadata": {
        "id": "050puVhVP4UH"
      },
      "outputs": [],
      "source": [
        ""
      ]
    },
    {
      "cell_type": "code",
      "execution_count": 102,
      "metadata": {
        "id": "Vvyo-HXuP4Se"
      },
      "outputs": [],
      "source": [
        ""
      ]
    },
    {
      "cell_type": "code",
      "execution_count": 102,
      "metadata": {
        "id": "DFa3WUrOP4Nu"
      },
      "outputs": [],
      "source": [
        ""
      ]
    },
    {
      "cell_type": "code",
      "execution_count": 102,
      "metadata": {
        "id": "hlA9tVe9OtC7"
      },
      "outputs": [],
      "source": [
        ""
      ]
    },
    {
      "cell_type": "markdown",
      "source": [
        "## Methodology for pulling tweets from twitter using my license."
      ],
      "metadata": {
        "id": "lM3PS5weSzfk"
      }
    },
    {
      "cell_type": "code",
      "execution_count": 103,
      "metadata": {
        "id": "6xxKWTmqtY33"
      },
      "outputs": [],
      "source": [
        "# cursor = tweepy.Cursor(api.search, q = 'climate change', lang = 'en', result_type = 'mixed', tweet_mode = 'extended', until = '2021-11-16').items(1)\n",
        "\n",
        "# for i in cursor:\n",
        "#   print(i.full_text)"
      ]
    },
    {
      "cell_type": "code",
      "execution_count": 104,
      "metadata": {
        "id": "CPzPgRUxtxAl"
      },
      "outputs": [],
      "source": [
        "# # Run a search and save the key variables for later analysis\n",
        "# date_of_run = '2021-11-16' # Should be 7 days in the past\n",
        "# number_of_tweets_query = 17500\n",
        "# tweet = []\n",
        "# likes = []\n",
        "# time = []\n",
        "# is_verified = []\n",
        "# user_name = []\n",
        "# hashtag = []\n",
        "\n",
        "# for tweet_object in tweepy.Cursor(api.search, q = 'climate change', tweet_mode = 'extended', lang = 'en', result_type = 'mixed', until = date_of_run, count = 100).items(number_of_tweets_query):\n",
        "#   tweet.append(tweet_object.full_text)\n",
        "#   likes.append(tweet_object.favorite_count)\n",
        "#   time.append(tweet_object.created_at)\n",
        "#   is_verified.append(tweet_object.user.verified)\n",
        "#   user_name.append(tweet_object.user.name)\n",
        "#   hashtag.append(tweet_object.entities['hashtags'])\n"
      ]
    },
    {
      "cell_type": "code",
      "execution_count": 105,
      "metadata": {
        "id": "1TrF8h8oG-Em"
      },
      "outputs": [],
      "source": [
        "# df = pd.DataFrame({'tweets':tweet,\n",
        "#                    'likes':likes,\n",
        "#                    'time':time,\n",
        "#                    'verified':is_verified,\n",
        "#                    'user':user_name,\n",
        "#                    'hashtags':hashtag})"
      ]
    },
    {
      "cell_type": "code",
      "execution_count": 106,
      "metadata": {
        "id": "G7iyPt_HG-CX"
      },
      "outputs": [],
      "source": [
        "# df"
      ]
    },
    {
      "cell_type": "code",
      "execution_count": 107,
      "metadata": {
        "id": "q4unpRDfG-AH"
      },
      "outputs": [],
      "source": [
        "# file_name = 'df_23_11_21_2.csv'\n",
        "# df.to_csv(r'/content/drive/MyDrive/Colab Notebooks/Twitter/' + file_name, )"
      ]
    }
  ],
  "metadata": {
    "colab": {
      "collapsed_sections": [],
      "name": "Twitter API.ipynb",
      "provenance": [],
      "mount_file_id": "1nh6vgfg57aB0pgSHigM5X_xr4dDBZZcr",
      "authorship_tag": "ABX9TyNP1bRbwnhGWBBV1HCXj5as",
      "include_colab_link": true
    },
    "kernelspec": {
      "display_name": "Python 3",
      "name": "python3"
    },
    "language_info": {
      "name": "python"
    }
  },
  "nbformat": 4,
  "nbformat_minor": 0
}